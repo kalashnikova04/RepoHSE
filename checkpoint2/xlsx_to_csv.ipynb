{
 "cells": [
  {
   "cell_type": "markdown",
   "metadata": {},
   "source": [
    "## Начальное преобразование данных"
   ]
  },
  {
   "cell_type": "markdown",
   "metadata": {},
   "source": [
    "Данные представляют собой два листа формата .xlsx. Соединим их в один и преобразуем в формат .csv."
   ]
  },
  {
   "cell_type": "code",
   "execution_count": 15,
   "metadata": {},
   "outputs": [],
   "source": [
    "import pandas as pd"
   ]
  },
  {
   "cell_type": "code",
   "execution_count": 16,
   "metadata": {},
   "outputs": [],
   "source": [
    "file_xlsx = pd.ExcelFile('st-data-full.xlsx')"
   ]
  },
  {
   "cell_type": "code",
   "execution_count": 17,
   "metadata": {},
   "outputs": [],
   "source": [
    "sheets = file_xlsx.sheet_names"
   ]
  },
  {
   "cell_type": "code",
   "execution_count": 18,
   "metadata": {},
   "outputs": [
    {
     "name": "stdout",
     "output_type": "stream",
     "text": [
      "                                                     text  label\n",
      "0       if you were curious, price chose the lowest ch...      1\n",
      "1                  true, not even 10k followers here yet.      1\n",
      "2       dogecoin co-founder billy markus hits back at ...      1\n",
      "3        i’m curious, do any bulls have a price where ...      1\n",
      "4                  friday everybody buy 10 more on friday      2\n",
      "...                                                   ...    ...\n",
      "599995  so did i 850% with ! get in below a dollar. st...      2\n",
      "599996  notice it’s the same few brain dead people bas...      2\n",
      "599997  attention!!! anyone under the age of 18…. stea...      2\n",
      "599998   dickhead bears fucked. keep your big mouths s...      2\n",
      "599999         hit that shit and make it turn like turnip      2\n",
      "\n",
      "[600000 rows x 2 columns]\n",
      "                                                     text  label\n",
      "0        trading at very low volumes, far less liquid ...      0\n",
      "1                      we gunna hit 14k followers tonight      1\n",
      "2       🚨 meme challenge . 🚨 whoever creates the best ...      2\n",
      "3        see y'all tomorrow and can't wait to see ada ...      2\n",
      "4       damn, is this going to follow the way haa been...      1\n",
      "...                                                   ...    ...\n",
      "731692  i tried well now the haters are -45% or liquid...      0\n",
      "731693   i'd be pretty happy if bitcoin ended the year...      2\n",
      "731694             will jump to 88 000 in no time 😬✈️✈️✈️      2\n",
      "731695      set it and forget it, i’ll see you guys at 😉😉      2\n",
      "731696                       man did this came to life 🥲😜      1\n",
      "\n",
      "[731697 rows x 2 columns]\n"
     ]
    }
   ],
   "source": [
    "df_sheets = []\n",
    "for sheet in sheets:\n",
    "    data = pd.read_excel(file_xlsx, sheet_name = sheet)\n",
    "    print(data)\n",
    "    df_sheets.append(data)"
   ]
  },
  {
   "cell_type": "code",
   "execution_count": 19,
   "metadata": {},
   "outputs": [],
   "source": [
    "df = pd.concat(df_sheets, axis=0, ignore_index=True) # соединяем вертикально\n",
    "                                                    # с продолжением индекса"
   ]
  },
  {
   "cell_type": "code",
   "execution_count": 20,
   "metadata": {},
   "outputs": [],
   "source": [
    "df.to_csv('stc-data.csv', index=False)"
   ]
  },
  {
   "cell_type": "code",
   "execution_count": 21,
   "metadata": {},
   "outputs": [
    {
     "data": {
      "text/html": [
       "<div>\n",
       "<style scoped>\n",
       "    .dataframe tbody tr th:only-of-type {\n",
       "        vertical-align: middle;\n",
       "    }\n",
       "\n",
       "    .dataframe tbody tr th {\n",
       "        vertical-align: top;\n",
       "    }\n",
       "\n",
       "    .dataframe thead th {\n",
       "        text-align: right;\n",
       "    }\n",
       "</style>\n",
       "<table border=\"1\" class=\"dataframe\">\n",
       "  <thead>\n",
       "    <tr style=\"text-align: right;\">\n",
       "      <th></th>\n",
       "      <th>text</th>\n",
       "      <th>label</th>\n",
       "    </tr>\n",
       "  </thead>\n",
       "  <tbody>\n",
       "    <tr>\n",
       "      <th>0</th>\n",
       "      <td>if you were curious, price chose the lowest ch...</td>\n",
       "      <td>1</td>\n",
       "    </tr>\n",
       "    <tr>\n",
       "      <th>1</th>\n",
       "      <td>true, not even 10k followers here yet.</td>\n",
       "      <td>1</td>\n",
       "    </tr>\n",
       "    <tr>\n",
       "      <th>2</th>\n",
       "      <td>dogecoin co-founder billy markus hits back at ...</td>\n",
       "      <td>1</td>\n",
       "    </tr>\n",
       "    <tr>\n",
       "      <th>3</th>\n",
       "      <td>i’m curious, do any bulls have a price where ...</td>\n",
       "      <td>1</td>\n",
       "    </tr>\n",
       "    <tr>\n",
       "      <th>4</th>\n",
       "      <td>friday everybody buy 10 more on friday</td>\n",
       "      <td>2</td>\n",
       "    </tr>\n",
       "  </tbody>\n",
       "</table>\n",
       "</div>"
      ],
      "text/plain": [
       "                                                text  label\n",
       "0  if you were curious, price chose the lowest ch...      1\n",
       "1             true, not even 10k followers here yet.      1\n",
       "2  dogecoin co-founder billy markus hits back at ...      1\n",
       "3   i’m curious, do any bulls have a price where ...      1\n",
       "4             friday everybody buy 10 more on friday      2"
      ]
     },
     "execution_count": 21,
     "metadata": {},
     "output_type": "execute_result"
    }
   ],
   "source": [
    "df.head()"
   ]
  },
  {
   "cell_type": "code",
   "execution_count": 22,
   "metadata": {},
   "outputs": [
    {
     "data": {
      "text/html": [
       "<div>\n",
       "<style scoped>\n",
       "    .dataframe tbody tr th:only-of-type {\n",
       "        vertical-align: middle;\n",
       "    }\n",
       "\n",
       "    .dataframe tbody tr th {\n",
       "        vertical-align: top;\n",
       "    }\n",
       "\n",
       "    .dataframe thead th {\n",
       "        text-align: right;\n",
       "    }\n",
       "</style>\n",
       "<table border=\"1\" class=\"dataframe\">\n",
       "  <thead>\n",
       "    <tr style=\"text-align: right;\">\n",
       "      <th></th>\n",
       "      <th>text</th>\n",
       "      <th>label</th>\n",
       "    </tr>\n",
       "  </thead>\n",
       "  <tbody>\n",
       "    <tr>\n",
       "      <th>1331692</th>\n",
       "      <td>i tried well now the haters are -45% or liquid...</td>\n",
       "      <td>0</td>\n",
       "    </tr>\n",
       "    <tr>\n",
       "      <th>1331693</th>\n",
       "      <td>i'd be pretty happy if bitcoin ended the year...</td>\n",
       "      <td>2</td>\n",
       "    </tr>\n",
       "    <tr>\n",
       "      <th>1331694</th>\n",
       "      <td>will jump to 88 000 in no time 😬✈️✈️✈️</td>\n",
       "      <td>2</td>\n",
       "    </tr>\n",
       "    <tr>\n",
       "      <th>1331695</th>\n",
       "      <td>set it and forget it, i’ll see you guys at 😉😉</td>\n",
       "      <td>2</td>\n",
       "    </tr>\n",
       "    <tr>\n",
       "      <th>1331696</th>\n",
       "      <td>man did this came to life 🥲😜</td>\n",
       "      <td>1</td>\n",
       "    </tr>\n",
       "  </tbody>\n",
       "</table>\n",
       "</div>"
      ],
      "text/plain": [
       "                                                      text  label\n",
       "1331692  i tried well now the haters are -45% or liquid...      0\n",
       "1331693   i'd be pretty happy if bitcoin ended the year...      2\n",
       "1331694             will jump to 88 000 in no time 😬✈️✈️✈️      2\n",
       "1331695      set it and forget it, i’ll see you guys at 😉😉      2\n",
       "1331696                       man did this came to life 🥲😜      1"
      ]
     },
     "execution_count": 22,
     "metadata": {},
     "output_type": "execute_result"
    }
   ],
   "source": [
    "df.tail()"
   ]
  },
  {
   "cell_type": "code",
   "execution_count": 23,
   "metadata": {},
   "outputs": [
    {
     "data": {
      "text/plain": [
       "(1331697, 2)"
      ]
     },
     "execution_count": 23,
     "metadata": {},
     "output_type": "execute_result"
    }
   ],
   "source": [
    "df.shape"
   ]
  }
 ],
 "metadata": {
  "kernelspec": {
   "display_name": "Python 3",
   "language": "python",
   "name": "python3"
  },
  "language_info": {
   "codemirror_mode": {
    "name": "ipython",
    "version": 3
   },
   "file_extension": ".py",
   "mimetype": "text/x-python",
   "name": "python",
   "nbconvert_exporter": "python",
   "pygments_lexer": "ipython3",
   "version": "3.8.5"
  },
  "toc": {
   "base_numbering": 1,
   "nav_menu": {},
   "number_sections": false,
   "sideBar": true,
   "skip_h1_title": false,
   "title_cell": "Table of Contents",
   "title_sidebar": "Contents",
   "toc_cell": false,
   "toc_position": {},
   "toc_section_display": true,
   "toc_window_display": false
  }
 },
 "nbformat": 4,
 "nbformat_minor": 4
}
